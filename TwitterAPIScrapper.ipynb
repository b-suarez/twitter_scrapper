{
 "cells": [
  {
   "cell_type": "code",
   "execution_count": 1,
   "metadata": {},
   "outputs": [],
   "source": [
    "import tweepy\n",
    "import json\n",
    "# http://docs.tweepy.org/en/latest/api.html"
   ]
  },
  {
   "cell_type": "markdown",
   "metadata": {},
   "source": [
    "We read the api keys from our config json file"
   ]
  },
  {
   "cell_type": "code",
   "execution_count": 2,
   "metadata": {},
   "outputs": [],
   "source": [
    "with open('api_keys.json') as json_file:\n",
    "    keys = json.load(json_file)\n",
    "    \n",
    "consumer_key = keys[\"API_keys\"][\"consumer_key\"]\n",
    "consumer_secret = keys[\"API_keys\"][\"consumer_secret\"]\n",
    "access_token = keys[\"API_keys\"][\"access_token\"]\n",
    "access_token_secret = keys[\"API_keys\"][\"access_token_secret\"]"
   ]
  },
  {
   "cell_type": "markdown",
   "metadata": {},
   "source": [
    "Run the authentication methods"
   ]
  },
  {
   "cell_type": "code",
   "execution_count": 3,
   "metadata": {},
   "outputs": [],
   "source": [
    "auth = tweepy.OAuthHandler(consumer_key, consumer_secret)\n",
    "auth.set_access_token(access_token, access_token_secret)\n",
    "\n",
    "api = tweepy.API(auth)"
   ]
  },
  {
   "cell_type": "markdown",
   "metadata": {},
   "source": [
    "Define a method to get all the tweets from a query"
   ]
  },
  {
   "cell_type": "code",
   "execution_count": 4,
   "metadata": {},
   "outputs": [],
   "source": [
    "def get_tweets_from_query(query):\n",
    "    return tweepy.Cursor(api.search, q=query).items(10)    "
   ]
  },
  {
   "cell_type": "code",
   "execution_count": null,
   "metadata": {},
   "outputs": [],
   "source": [
    "# Given a tweet obj we return its number of retweets\n",
    "\n",
    "def get_rts_from_tweet(tweet):\n",
    "    return api.get_status(tweet.id).retweet_count"
   ]
  },
  {
   "cell_type": "code",
   "execution_count": 5,
   "metadata": {},
   "outputs": [
    {
     "name": "stdout",
     "output_type": "stream",
     "text": [
      "Oh look fuck Tom MAGA Brady forever https://t.co/6AwDq9XTod\n",
      "@PHLEaglesNews Nick Foles has a Superbowl win against Tom Brady the GOAT, and a Superbowl MVP.  Why is Nick Foles d… https://t.co/LcfU3pQBCF\n",
      "@stephenasmith How long is Max Kellerman’s Ravine for Tom Brady? \n",
      "\n",
      "Is it the length of Brady’s entire career? \n",
      "\n",
      "Cuz… https://t.co/pCHr1Uznwh\n",
      "RT @awfulannouncing: Politifact rates Tom Brady’s unsourced claim that suicides have surpassed COVID-19 deaths as “false” https://t.co/ixkP…\n",
      "Don't know who needs to hear this but ... don't get your news from Tom Brady. https://t.co/ElYVGFm07u\n",
      "Tom Brady isn’t back, he just never left. \n",
      "\n",
      "Also, the Miami Dolphins at 10👀🔥 https://t.co/9mvQpvjeMz\n",
      "RT @PolitiFact: No, suicides have not outpaced COVID-19 deaths, despite what @TomBrady said on Instagram.\n",
      "https://t.co/EK6FgBp7lO https://t…\n",
      "RT @ComplexSports: The legend @Keyshawn Johnson joins the pod to talk: \n",
      "\n",
      "- Tom Brady vs. Lamar \n",
      "- Baker/Odell \n",
      "- Michael Thomas situation…\n",
      "RT @espn: .@maxkellerman is making the apology to Tom Brady official 😲 \n",
      "\n",
      "(via @FirstTake) https://t.co/yAKPGyynTT\n",
      "2/ Trickle-down Health\n",
      "\n",
      "The recovery craze started w/pro athletes. \n",
      "\n",
      "Superstars like LeBron, Russell Wilson &amp; Tom B… https://t.co/LFw6cIIVY4\n"
     ]
    }
   ],
   "source": [
    "tom_brady_tweets = get_tweets_from_query(\"Tom Brady\")\n",
    "for tweet in tom_brady_tweets:\n",
    "     print(tweet.text)\n",
    "#     print(api.get_status(tweet.id).retweet_count)"
   ]
  },
  {
   "cell_type": "code",
   "execution_count": null,
   "metadata": {},
   "outputs": [],
   "source": []
  }
 ],
 "metadata": {
  "kernelspec": {
   "display_name": "Python 3",
   "language": "python",
   "name": "python3"
  },
  "language_info": {
   "codemirror_mode": {
    "name": "ipython",
    "version": 3
   },
   "file_extension": ".py",
   "mimetype": "text/x-python",
   "name": "python",
   "nbconvert_exporter": "python",
   "pygments_lexer": "ipython3",
   "version": "3.7.3"
  }
 },
 "nbformat": 4,
 "nbformat_minor": 2
}
